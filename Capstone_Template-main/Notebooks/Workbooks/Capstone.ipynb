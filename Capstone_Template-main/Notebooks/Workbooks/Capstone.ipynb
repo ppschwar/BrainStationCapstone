{
 "cells": [
  {
   "cell_type": "markdown",
   "id": "ee6e660c-0b58-4dd6-9fa7-eb26cd08b3e4",
   "metadata": {},
   "source": [
    "03 / 08 / 2024\n",
    "- Below is some initial EDA on the the incomplete data set from Kaggle.  I wanted to take a quick look at some features, but given this is not the full data set I will ultimately use, I didn't want to do too much here."
   ]
  },
  {
   "cell_type": "markdown",
   "id": "01dd3cc4-8ad1-4e49-ad61-6822c9846891",
   "metadata": {},
   "source": [
    "Ultimately I found in this notebook that I will be working with a little over 1600 transactions that I would like to focus on.  I will have other tables from NHL Player Data that average to about 1000 players per season (plus the Team / Playoff workbook) that will all workout to much more data overall."
   ]
  },
  {
   "cell_type": "code",
   "execution_count": 2,
   "id": "f4b97e88",
   "metadata": {},
   "outputs": [],
   "source": [
    "import numpy as np\n",
    "import pandas as pd\n",
    "import matplotlib.pyplot as plt\n",
    "import seaborn as sns"
   ]
  },
  {
   "cell_type": "code",
   "execution_count": 4,
   "id": "d52a3502",
   "metadata": {
    "scrolled": true
   },
   "outputs": [],
   "source": [
    "transactions = pd.read_csv('/Users/phil/Documents/Capstone/Data/Hockey_trades_since_1918_2.csv')"
   ]
  },
  {
   "cell_type": "code",
   "execution_count": 5,
   "id": "bf27b6ad",
   "metadata": {},
   "outputs": [
    {
     "data": {
      "text/plain": [
       "(8364, 10)"
      ]
     },
     "execution_count": 5,
     "metadata": {},
     "output_type": "execute_result"
    }
   ],
   "source": [
    "transactions.shape"
   ]
  },
  {
   "cell_type": "code",
   "execution_count": 6,
   "id": "7191fca9",
   "metadata": {
    "scrolled": true
   },
   "outputs": [
    {
     "data": {
      "text/html": [
       "<div>\n",
       "<style scoped>\n",
       "    .dataframe tbody tr th:only-of-type {\n",
       "        vertical-align: middle;\n",
       "    }\n",
       "\n",
       "    .dataframe tbody tr th {\n",
       "        vertical-align: top;\n",
       "    }\n",
       "\n",
       "    .dataframe thead th {\n",
       "        text-align: right;\n",
       "    }\n",
       "</style>\n",
       "<table border=\"1\" class=\"dataframe\">\n",
       "  <thead>\n",
       "    <tr style=\"text-align: right;\">\n",
       "      <th></th>\n",
       "      <th>Unnamed: 0</th>\n",
       "      <th>Team A</th>\n",
       "      <th>Asset Sent</th>\n",
       "      <th>Asset Received</th>\n",
       "      <th>Team B</th>\n",
       "      <th>Num Players Sent</th>\n",
       "      <th>Num Player Received</th>\n",
       "      <th>Year</th>\n",
       "      <th>Month</th>\n",
       "      <th>Day</th>\n",
       "    </tr>\n",
       "  </thead>\n",
       "  <tbody>\n",
       "    <tr>\n",
       "      <th>8359</th>\n",
       "      <td>12539</td>\n",
       "      <td>Jets</td>\n",
       "      <td>• Jordie Benn</td>\n",
       "      <td>• 2021 sixth round pick (?-?)</td>\n",
       "      <td>Canucks</td>\n",
       "      <td>1</td>\n",
       "      <td>1</td>\n",
       "      <td>2021</td>\n",
       "      <td>4</td>\n",
       "      <td>12</td>\n",
       "    </tr>\n",
       "    <tr>\n",
       "      <th>8360</th>\n",
       "      <td>12540</td>\n",
       "      <td>Blackhawks</td>\n",
       "      <td>• 2021 fourth round pick (?-?)</td>\n",
       "      <td>• Madison Bowey• 2021 fifth round pick (?-?)</td>\n",
       "      <td>Canucks</td>\n",
       "      <td>2</td>\n",
       "      <td>1</td>\n",
       "      <td>2021</td>\n",
       "      <td>4</td>\n",
       "      <td>12</td>\n",
       "    </tr>\n",
       "    <tr>\n",
       "      <th>8361</th>\n",
       "      <td>12541</td>\n",
       "      <td>Canucks</td>\n",
       "      <td>• Madison Bowey• 2021 fifth round pick (?-?)</td>\n",
       "      <td>• 2021 fourth round pick (?-?)</td>\n",
       "      <td>Blackhawks</td>\n",
       "      <td>1</td>\n",
       "      <td>2</td>\n",
       "      <td>2021</td>\n",
       "      <td>4</td>\n",
       "      <td>12</td>\n",
       "    </tr>\n",
       "    <tr>\n",
       "      <th>8362</th>\n",
       "      <td>12542</td>\n",
       "      <td>Capitals</td>\n",
       "      <td>• Anthony Mantha</td>\n",
       "      <td>• Jakub Vrana• Richard Panik• 2021 first roun...</td>\n",
       "      <td>RedWings</td>\n",
       "      <td>4</td>\n",
       "      <td>1</td>\n",
       "      <td>2021</td>\n",
       "      <td>4</td>\n",
       "      <td>12</td>\n",
       "    </tr>\n",
       "    <tr>\n",
       "      <th>8363</th>\n",
       "      <td>12543</td>\n",
       "      <td>RedWings</td>\n",
       "      <td>• Jakub Vrana• Richard Panik• 2021 first roun...</td>\n",
       "      <td>• Anthony Mantha</td>\n",
       "      <td>Capitals</td>\n",
       "      <td>1</td>\n",
       "      <td>4</td>\n",
       "      <td>2021</td>\n",
       "      <td>4</td>\n",
       "      <td>12</td>\n",
       "    </tr>\n",
       "  </tbody>\n",
       "</table>\n",
       "</div>"
      ],
      "text/plain": [
       "      Unnamed: 0      Team A  \\\n",
       "8359       12539        Jets   \n",
       "8360       12540  Blackhawks   \n",
       "8361       12541     Canucks   \n",
       "8362       12542    Capitals   \n",
       "8363       12543    RedWings   \n",
       "\n",
       "                                             Asset Sent  \\\n",
       "8359                                      • Jordie Benn   \n",
       "8360                     • 2021 fourth round pick (?-?)   \n",
       "8361       • Madison Bowey• 2021 fifth round pick (?-?)   \n",
       "8362                                   • Anthony Mantha   \n",
       "8363   • Jakub Vrana• Richard Panik• 2021 first roun...   \n",
       "\n",
       "                                         Asset Received      Team B  \\\n",
       "8359                      • 2021 sixth round pick (?-?)     Canucks   \n",
       "8360       • Madison Bowey• 2021 fifth round pick (?-?)     Canucks   \n",
       "8361                     • 2021 fourth round pick (?-?)  Blackhawks   \n",
       "8362   • Jakub Vrana• Richard Panik• 2021 first roun...    RedWings   \n",
       "8363                                   • Anthony Mantha    Capitals   \n",
       "\n",
       "      Num Players Sent  Num Player Received  Year  Month  Day  \n",
       "8359                 1                    1  2021      4   12  \n",
       "8360                 2                    1  2021      4   12  \n",
       "8361                 1                    2  2021      4   12  \n",
       "8362                 4                    1  2021      4   12  \n",
       "8363                 1                    4  2021      4   12  "
      ]
     },
     "execution_count": 6,
     "metadata": {},
     "output_type": "execute_result"
    }
   ],
   "source": [
    "transactions.tail()"
   ]
  },
  {
   "cell_type": "code",
   "execution_count": 46,
   "id": "7eeb077c",
   "metadata": {},
   "outputs": [
    {
     "data": {
      "text/plain": [
       "Year\n",
       "2008    248\n",
       "2013    248\n",
       "2017    224\n",
       "2010    222\n",
       "2011    212\n",
       "2019    212\n",
       "2015    210\n",
       "2020    208\n",
       "2018    202\n",
       "2007    199\n",
       "2006    198\n",
       "2014    191\n",
       "2016    190\n",
       "2009    169\n",
       "2012    132\n",
       "2021     84\n",
       "Name: count, dtype: int64"
      ]
     },
     "execution_count": 46,
     "metadata": {},
     "output_type": "execute_result"
    }
   ],
   "source": [
    "trans = transactions[transactions['Year'] > 2005]\n",
    "trans['Year'].value_counts()"
   ]
  },
  {
   "cell_type": "code",
   "execution_count": 15,
   "id": "d2131b10-31df-4b46-b403-81d2857e62fa",
   "metadata": {
    "tags": []
   },
   "outputs": [],
   "source": [
    "trans06 = trans[trans['Year']== 2006]"
   ]
  },
  {
   "cell_type": "code",
   "execution_count": 111,
   "id": "e6ef65b4-5029-4d74-90f0-60fa19433331",
   "metadata": {
    "tags": []
   },
   "outputs": [
    {
     "name": "stdout",
     "output_type": "stream",
     "text": [
      "<class 'pandas.core.frame.DataFrame'>\n",
      "Index: 8 entries, 5235 to 5242\n",
      "Data columns (total 10 columns):\n",
      " #   Column               Non-Null Count  Dtype \n",
      "---  ------               --------------  ----- \n",
      " 0   Unnamed: 0           8 non-null      int64 \n",
      " 1   Team A               8 non-null      object\n",
      " 2   Asset Sent           8 non-null      object\n",
      " 3   Asset Received       8 non-null      object\n",
      " 4   Team B               8 non-null      object\n",
      " 5   Num Players Sent     8 non-null      int64 \n",
      " 6   Num Player Received  8 non-null      int64 \n",
      " 7   Year                 8 non-null      int64 \n",
      " 8   Month                8 non-null      int64 \n",
      " 9   Day                  8 non-null      int64 \n",
      "dtypes: int64(6), object(4)\n",
      "memory usage: 704.0+ bytes\n"
     ]
    }
   ],
   "source": [
    "trans06_j = trans06[(trans06['Month']==1)]\n",
    "#trans06_j.info()\n",
    "trans06_f = trans06[(trans06['Month']==2)]\n",
    "trans06_f.info()\n",
    "trans06_m = trans06[(trans06['Month']==3) & (trans06['Day']<=9)]\n",
    "#trans06_m.info()"
   ]
  },
  {
   "cell_type": "markdown",
   "id": "0bea6560-34f8-4c09-935f-0b1b21a193ed",
   "metadata": {},
   "source": [
    "trans06_mid = 20 + 8 + 52 = 80"
   ]
  },
  {
   "cell_type": "code",
   "execution_count": 14,
   "id": "866e32ef-ed28-48c3-b930-f718fd58a5d8",
   "metadata": {
    "tags": []
   },
   "outputs": [],
   "source": [
    "trans07 = trans[trans['Year']== 2007"
   ]
  },
  {
   "cell_type": "code",
   "execution_count": 103,
   "id": "7b588a39-5c64-4c28-b277-fdd3721745d4",
   "metadata": {
    "tags": []
   },
   "outputs": [
    {
     "name": "stdout",
     "output_type": "stream",
     "text": [
      "<class 'pandas.core.frame.DataFrame'>\n",
      "Index: 20 entries, 5413 to 5432\n",
      "Data columns (total 10 columns):\n",
      " #   Column               Non-Null Count  Dtype \n",
      "---  ------               --------------  ----- \n",
      " 0   Unnamed: 0           20 non-null     int64 \n",
      " 1   Team A               20 non-null     object\n",
      " 2   Asset Sent           20 non-null     object\n",
      " 3   Asset Received       20 non-null     object\n",
      " 4   Team B               20 non-null     object\n",
      " 5   Num Players Sent     20 non-null     int64 \n",
      " 6   Num Player Received  20 non-null     int64 \n",
      " 7   Year                 20 non-null     int64 \n",
      " 8   Month                20 non-null     int64 \n",
      " 9   Day                  20 non-null     int64 \n",
      "dtypes: int64(6), object(4)\n",
      "memory usage: 1.7+ KB\n"
     ]
    }
   ],
   "source": [
    "trans07_j = trans07[(trans07['Month']==1)]\n",
    "trans07_j.info()\n",
    "trans07_f = trans07[(trans07['Month']==2)&(trans07['Day']<=27)]\n",
    "#trans07_f.info()"
   ]
  },
  {
   "cell_type": "markdown",
   "id": "1d758213-2dab-4182-80f5-9290b675ac27",
   "metadata": {
    "tags": []
   },
   "source": [
    "trans07_mid = 20 + 82 = 102"
   ]
  },
  {
   "cell_type": "code",
   "execution_count": 105,
   "id": "feeac21e-7263-436a-98cc-adb6d46107b5",
   "metadata": {
    "tags": []
   },
   "outputs": [],
   "source": [
    "trans08 = trans[trans['Year']== 2008]"
   ]
  },
  {
   "cell_type": "code",
   "execution_count": 114,
   "id": "d388f082-2088-429c-a121-c5b418be347c",
   "metadata": {
    "tags": []
   },
   "outputs": [
    {
     "name": "stdout",
     "output_type": "stream",
     "text": [
      "<class 'pandas.core.frame.DataFrame'>\n",
      "Index: 62 entries, 5628 to 5689\n",
      "Data columns (total 10 columns):\n",
      " #   Column               Non-Null Count  Dtype \n",
      "---  ------               --------------  ----- \n",
      " 0   Unnamed: 0           62 non-null     int64 \n",
      " 1   Team A               62 non-null     object\n",
      " 2   Asset Sent           62 non-null     object\n",
      " 3   Asset Received       62 non-null     object\n",
      " 4   Team B               62 non-null     object\n",
      " 5   Num Players Sent     62 non-null     int64 \n",
      " 6   Num Player Received  62 non-null     int64 \n",
      " 7   Year                 62 non-null     int64 \n",
      " 8   Month                62 non-null     int64 \n",
      " 9   Day                  62 non-null     int64 \n",
      "dtypes: int64(6), object(4)\n",
      "memory usage: 5.3+ KB\n"
     ]
    }
   ],
   "source": [
    "trans08_j = trans08[(trans08['Month']==1)]\n",
    "#trans08_j.info()\n",
    "trans08_f = trans08[(trans08['Month']==2)]\n",
    "trans08_f.info()"
   ]
  },
  {
   "cell_type": "markdown",
   "id": "64f83934-0454-4b9a-9627-4efd7b8df921",
   "metadata": {},
   "source": [
    "trans08_mid = 16 + 62 = 78"
   ]
  },
  {
   "cell_type": "code",
   "execution_count": 113,
   "id": "fd19daf6-c873-4f7c-a367-c485a046add5",
   "metadata": {
    "tags": []
   },
   "outputs": [],
   "source": [
    "trans09 = trans[trans['Year']== 2009]"
   ]
  },
  {
   "cell_type": "code",
   "execution_count": 117,
   "id": "1a6936c7-d0bc-4db1-bf5d-3ae4a6211eeb",
   "metadata": {
    "tags": []
   },
   "outputs": [
    {
     "name": "stdout",
     "output_type": "stream",
     "text": [
      "<class 'pandas.core.frame.DataFrame'>\n",
      "Index: 40 entries, 5884 to 5923\n",
      "Data columns (total 10 columns):\n",
      " #   Column               Non-Null Count  Dtype \n",
      "---  ------               --------------  ----- \n",
      " 0   Unnamed: 0           40 non-null     int64 \n",
      " 1   Team A               40 non-null     object\n",
      " 2   Asset Sent           40 non-null     object\n",
      " 3   Asset Received       40 non-null     object\n",
      " 4   Team B               40 non-null     object\n",
      " 5   Num Players Sent     40 non-null     int64 \n",
      " 6   Num Player Received  40 non-null     int64 \n",
      " 7   Year                 40 non-null     int64 \n",
      " 8   Month                40 non-null     int64 \n",
      " 9   Day                  40 non-null     int64 \n",
      "dtypes: int64(6), object(4)\n",
      "memory usage: 3.4+ KB\n"
     ]
    }
   ],
   "source": [
    "trans09_j = trans09[(trans09['Month']==1)]\n",
    "#trans09_j.info()\n",
    "trans09_f = trans09[(trans09['Month']==2)]\n",
    "#trans09_f.info()\n",
    "trans09_m = trans09[(trans09['Month']==3) & (trans09['Day']<=4)]\n",
    "trans09_m.info()"
   ]
  },
  {
   "cell_type": "markdown",
   "id": "3ba712fa-9a78-4ca5-b120-05baa0a96bca",
   "metadata": {},
   "source": [
    "trans09_mid = 12 + 12 + 40 = 64"
   ]
  },
  {
   "cell_type": "code",
   "execution_count": 44,
   "id": "0737599b-a7d3-48aa-8f4f-37e6b6090c59",
   "metadata": {
    "tags": []
   },
   "outputs": [],
   "source": [
    "trans10 = trans[trans['Year']== 2010]"
   ]
  },
  {
   "cell_type": "code",
   "execution_count": 120,
   "id": "2a5612f9-263d-4db6-9c1b-6e47fbcf75c8",
   "metadata": {
    "tags": []
   },
   "outputs": [
    {
     "name": "stdout",
     "output_type": "stream",
     "text": [
      "<class 'pandas.core.frame.DataFrame'>\n",
      "Index: 80 entries, 6049 to 6128\n",
      "Data columns (total 10 columns):\n",
      " #   Column               Non-Null Count  Dtype \n",
      "---  ------               --------------  ----- \n",
      " 0   Unnamed: 0           80 non-null     int64 \n",
      " 1   Team A               80 non-null     object\n",
      " 2   Asset Sent           80 non-null     object\n",
      " 3   Asset Received       80 non-null     object\n",
      " 4   Team B               80 non-null     object\n",
      " 5   Num Players Sent     80 non-null     int64 \n",
      " 6   Num Player Received  80 non-null     int64 \n",
      " 7   Year                 80 non-null     int64 \n",
      " 8   Month                80 non-null     int64 \n",
      " 9   Day                  80 non-null     int64 \n",
      "dtypes: int64(6), object(4)\n",
      "memory usage: 6.9+ KB\n"
     ]
    }
   ],
   "source": [
    "trans10_j = trans10[(trans10['Month']==1)]\n",
    "#trans10_j.info()\n",
    "trans10_f = trans10[(trans10['Month']==2)]\n",
    "#trans10_f.info()\n",
    "trans10_m = trans10[(trans10['Month']==3) & (trans10['Day']<=3)]\n",
    "trans10_m.info()"
   ]
  },
  {
   "cell_type": "markdown",
   "id": "3d7329de-8b58-43ba-b5d8-dcb8ca767fa1",
   "metadata": {},
   "source": [
    "trans10_mid = 4 + 16 + 80 = 120"
   ]
  },
  {
   "cell_type": "code",
   "execution_count": 48,
   "id": "a94e45b9-310c-4f0c-8962-203e4f838f27",
   "metadata": {
    "tags": []
   },
   "outputs": [],
   "source": [
    "trans11 = trans[trans['Year']== 2011]"
   ]
  },
  {
   "cell_type": "code",
   "execution_count": 122,
   "id": "ef9fc33f-86eb-4d96-bbb9-3088cbea93c2",
   "metadata": {
    "tags": []
   },
   "outputs": [
    {
     "name": "stdout",
     "output_type": "stream",
     "text": [
      "<class 'pandas.core.frame.DataFrame'>\n",
      "Index: 73 entries, 6261 to 6333\n",
      "Data columns (total 10 columns):\n",
      " #   Column               Non-Null Count  Dtype \n",
      "---  ------               --------------  ----- \n",
      " 0   Unnamed: 0           73 non-null     int64 \n",
      " 1   Team A               73 non-null     object\n",
      " 2   Asset Sent           73 non-null     object\n",
      " 3   Asset Received       73 non-null     object\n",
      " 4   Team B               73 non-null     object\n",
      " 5   Num Players Sent     73 non-null     int64 \n",
      " 6   Num Player Received  73 non-null     int64 \n",
      " 7   Year                 73 non-null     int64 \n",
      " 8   Month                73 non-null     int64 \n",
      " 9   Day                  73 non-null     int64 \n",
      "dtypes: int64(6), object(4)\n",
      "memory usage: 6.3+ KB\n"
     ]
    }
   ],
   "source": [
    "trans11_j = trans11[(trans11['Month']==1)]\n",
    "#trans11_j.info()\n",
    "trans11_f = trans11[(trans11['Month']==2)]\n",
    "trans11_f.info()"
   ]
  },
  {
   "cell_type": "markdown",
   "id": "5d60190b-b993-4bcc-b4e5-a34736499bb2",
   "metadata": {},
   "source": [
    "trans11_mid = 10 + 73 = 83"
   ]
  },
  {
   "cell_type": "code",
   "execution_count": 50,
   "id": "30d57157-2276-40f9-960d-c1e8c2283cc2",
   "metadata": {
    "tags": []
   },
   "outputs": [],
   "source": [
    "trans12 = trans[trans['Year']== 2012]"
   ]
  },
  {
   "cell_type": "code",
   "execution_count": 124,
   "id": "dd8df597-1415-4764-8bca-0feebe357896",
   "metadata": {
    "tags": []
   },
   "outputs": [
    {
     "name": "stdout",
     "output_type": "stream",
     "text": [
      "<class 'pandas.core.frame.DataFrame'>\n",
      "Index: 18 entries, 6463 to 6480\n",
      "Data columns (total 10 columns):\n",
      " #   Column               Non-Null Count  Dtype \n",
      "---  ------               --------------  ----- \n",
      " 0   Unnamed: 0           18 non-null     int64 \n",
      " 1   Team A               18 non-null     object\n",
      " 2   Asset Sent           18 non-null     object\n",
      " 3   Asset Received       18 non-null     object\n",
      " 4   Team B               18 non-null     object\n",
      " 5   Num Players Sent     18 non-null     int64 \n",
      " 6   Num Player Received  18 non-null     int64 \n",
      " 7   Year                 18 non-null     int64 \n",
      " 8   Month                18 non-null     int64 \n",
      " 9   Day                  18 non-null     int64 \n",
      "dtypes: int64(6), object(4)\n",
      "memory usage: 1.5+ KB\n"
     ]
    }
   ],
   "source": [
    "trans12_j = trans12[(trans12['Month']==1)]\n",
    "trans12_j.info()\n",
    "trans12_f = trans12[(trans12['Month']==2) & (trans12['Day']<=27)]\n",
    "#trans12_f.info()"
   ]
  },
  {
   "cell_type": "markdown",
   "id": "58a2fef5-22d3-4c34-ac42-c2efd6fb3aaf",
   "metadata": {},
   "source": [
    "trans12_mid = 18 + 66 = 84"
   ]
  },
  {
   "cell_type": "code",
   "execution_count": 54,
   "id": "96305cda-0b48-4944-be02-ba2b48c1d429",
   "metadata": {
    "tags": []
   },
   "outputs": [],
   "source": [
    "trans13 = trans[trans['Year']== 2013]"
   ]
  },
  {
   "cell_type": "code",
   "execution_count": 128,
   "id": "d72cfdbf-3278-4576-b37d-86dcd210b4c0",
   "metadata": {
    "tags": []
   },
   "outputs": [
    {
     "name": "stdout",
     "output_type": "stream",
     "text": [
      "<class 'pandas.core.frame.DataFrame'>\n",
      "Index: 24 entries, 6595 to 6618\n",
      "Data columns (total 10 columns):\n",
      " #   Column               Non-Null Count  Dtype \n",
      "---  ------               --------------  ----- \n",
      " 0   Unnamed: 0           24 non-null     int64 \n",
      " 1   Team A               24 non-null     object\n",
      " 2   Asset Sent           24 non-null     object\n",
      " 3   Asset Received       24 non-null     object\n",
      " 4   Team B               24 non-null     object\n",
      " 5   Num Players Sent     24 non-null     int64 \n",
      " 6   Num Player Received  24 non-null     int64 \n",
      " 7   Year                 24 non-null     int64 \n",
      " 8   Month                24 non-null     int64 \n",
      " 9   Day                  24 non-null     int64 \n",
      "dtypes: int64(6), object(4)\n",
      "memory usage: 2.1+ KB\n"
     ]
    }
   ],
   "source": [
    "trans13_j = trans13[(trans13['Month']==1)]\n",
    "trans13_j.info()\n",
    "trans13_f = trans13[(trans13['Month']==2)]\n",
    "#trans13_f.info()\n",
    "trans13_m = trans13[(trans13['Month']==3)]\n",
    "#trans13_m.info()\n",
    "trans13_a = trans13[(trans13['Month']==4) & (trans13['Day']<=3)]\n",
    "#trans13_a.info()"
   ]
  },
  {
   "cell_type": "markdown",
   "id": "d050889d-a0d8-42e3-bbcc-aabf5b127df4",
   "metadata": {},
   "source": [
    "trans13_mid = 24 + 26 + 32 + 60 = 142"
   ]
  },
  {
   "cell_type": "code",
   "execution_count": 56,
   "id": "87b37dae-4421-433a-b61b-97f87c376eac",
   "metadata": {
    "tags": []
   },
   "outputs": [],
   "source": [
    "trans14 = trans[trans['Year']== 2014]"
   ]
  },
  {
   "cell_type": "code",
   "execution_count": 132,
   "id": "982c3f56-96bf-4977-aeb5-aa16789feac1",
   "metadata": {
    "tags": []
   },
   "outputs": [
    {
     "name": "stdout",
     "output_type": "stream",
     "text": [
      "<class 'pandas.core.frame.DataFrame'>\n",
      "Index: 32 entries, 6645 to 6676\n",
      "Data columns (total 10 columns):\n",
      " #   Column               Non-Null Count  Dtype \n",
      "---  ------               --------------  ----- \n",
      " 0   Unnamed: 0           32 non-null     int64 \n",
      " 1   Team A               32 non-null     object\n",
      " 2   Asset Sent           32 non-null     object\n",
      " 3   Asset Received       32 non-null     object\n",
      " 4   Team B               32 non-null     object\n",
      " 5   Num Players Sent     32 non-null     int64 \n",
      " 6   Num Player Received  32 non-null     int64 \n",
      " 7   Year                 32 non-null     int64 \n",
      " 8   Month                32 non-null     int64 \n",
      " 9   Day                  32 non-null     int64 \n",
      "dtypes: int64(6), object(4)\n",
      "memory usage: 2.8+ KB\n"
     ]
    }
   ],
   "source": [
    "trans14_j = trans14[(trans14['Month']==1)]\n",
    "#trans14_j.info()\n",
    "trans14_f = trans14[(trans14['Month']==2)]\n",
    "#trans14_f.info()\n",
    "trans14_m = trans14[(trans14['Month']==3) & (trans14['Day']<=3)]\n",
    "trans13_m.info()"
   ]
  },
  {
   "cell_type": "markdown",
   "id": "6b97e97f-ffbf-457d-8646-c7758c41e813",
   "metadata": {},
   "source": [
    "trans14_mid = 16 + 16 + 32 = 64"
   ]
  },
  {
   "cell_type": "code",
   "execution_count": 58,
   "id": "5485df7e-e580-48b3-9446-64843117cf51",
   "metadata": {
    "tags": []
   },
   "outputs": [],
   "source": [
    "trans15 = trans[trans['Year']== 2015]"
   ]
  },
  {
   "cell_type": "code",
   "execution_count": 135,
   "id": "731e9271-0ef8-48d8-a4c7-4fde7cf8bb5e",
   "metadata": {
    "tags": []
   },
   "outputs": [
    {
     "name": "stdout",
     "output_type": "stream",
     "text": [
      "<class 'pandas.core.frame.DataFrame'>\n",
      "Index: 58 entries, 7080 to 7137\n",
      "Data columns (total 10 columns):\n",
      " #   Column               Non-Null Count  Dtype \n",
      "---  ------               --------------  ----- \n",
      " 0   Unnamed: 0           58 non-null     int64 \n",
      " 1   Team A               58 non-null     object\n",
      " 2   Asset Sent           58 non-null     object\n",
      " 3   Asset Received       58 non-null     object\n",
      " 4   Team B               58 non-null     object\n",
      " 5   Num Players Sent     58 non-null     int64 \n",
      " 6   Num Player Received  58 non-null     int64 \n",
      " 7   Year                 58 non-null     int64 \n",
      " 8   Month                58 non-null     int64 \n",
      " 9   Day                  58 non-null     int64 \n",
      "dtypes: int64(6), object(4)\n",
      "memory usage: 5.0+ KB\n"
     ]
    }
   ],
   "source": [
    "trans15_j = trans15[(trans15['Month']==1)]\n",
    "#trans15_j.info()\n",
    "trans15_f = trans15[(trans15['Month']==2)]\n",
    "#trans15_f.info()\n",
    "trans15_m = trans15[(trans15['Month']==3) & (trans15['Day']<=2)]\n",
    "trans15_m.info()"
   ]
  },
  {
   "cell_type": "markdown",
   "id": "fb6ac970-b72c-4eac-870c-302801a48fb8",
   "metadata": {},
   "source": [
    "trans15_mid = 10 + 36 + 58 = 94"
   ]
  },
  {
   "cell_type": "code",
   "execution_count": 60,
   "id": "4b9772f1-c345-48dd-8a4f-043cce83a9fb",
   "metadata": {
    "tags": []
   },
   "outputs": [],
   "source": [
    "trans16 = trans[trans['Year']== 2016]"
   ]
  },
  {
   "cell_type": "code",
   "execution_count": 137,
   "id": "525f06fd-6c14-4faa-9828-3c5185ffdb05",
   "metadata": {
    "tags": []
   },
   "outputs": [
    {
     "name": "stdout",
     "output_type": "stream",
     "text": [
      "<class 'pandas.core.frame.DataFrame'>\n",
      "Index: 78 entries, 7262 to 7339\n",
      "Data columns (total 10 columns):\n",
      " #   Column               Non-Null Count  Dtype \n",
      "---  ------               --------------  ----- \n",
      " 0   Unnamed: 0           78 non-null     int64 \n",
      " 1   Team A               78 non-null     object\n",
      " 2   Asset Sent           78 non-null     object\n",
      " 3   Asset Received       78 non-null     object\n",
      " 4   Team B               78 non-null     object\n",
      " 5   Num Players Sent     78 non-null     int64 \n",
      " 6   Num Player Received  78 non-null     int64 \n",
      " 7   Year                 78 non-null     int64 \n",
      " 8   Month                78 non-null     int64 \n",
      " 9   Day                  78 non-null     int64 \n",
      "dtypes: int64(6), object(4)\n",
      "memory usage: 6.7+ KB\n"
     ]
    }
   ],
   "source": [
    "trans16_j = trans16[(trans16['Month']==1)]\n",
    "#trans16_j.info()\n",
    "trans16_f = trans16[(trans16['Month']==2) & (trans16['Day']<=29)]\n",
    "trans16_f.info()"
   ]
  },
  {
   "cell_type": "markdown",
   "id": "0213281d-ea3d-4595-85ef-d75e8ecc2854",
   "metadata": {},
   "source": [
    "trans16_mid = 18 + 78 = 96"
   ]
  },
  {
   "cell_type": "code",
   "execution_count": 62,
   "id": "b7e37f6e-f8dd-4783-8667-18b5a86b5b19",
   "metadata": {
    "tags": []
   },
   "outputs": [],
   "source": [
    "trans17 = trans[trans['Year']== 2017]"
   ]
  },
  {
   "cell_type": "code",
   "execution_count": 140,
   "id": "a1dbb237-beb6-468d-929e-d203cf5dd5d9",
   "metadata": {
    "tags": []
   },
   "outputs": [
    {
     "name": "stdout",
     "output_type": "stream",
     "text": [
      "<class 'pandas.core.frame.DataFrame'>\n",
      "Index: 40 entries, 7496 to 7535\n",
      "Data columns (total 10 columns):\n",
      " #   Column               Non-Null Count  Dtype \n",
      "---  ------               --------------  ----- \n",
      " 0   Unnamed: 0           40 non-null     int64 \n",
      " 1   Team A               40 non-null     object\n",
      " 2   Asset Sent           40 non-null     object\n",
      " 3   Asset Received       40 non-null     object\n",
      " 4   Team B               40 non-null     object\n",
      " 5   Num Players Sent     40 non-null     int64 \n",
      " 6   Num Player Received  40 non-null     int64 \n",
      " 7   Year                 40 non-null     int64 \n",
      " 8   Month                40 non-null     int64 \n",
      " 9   Day                  40 non-null     int64 \n",
      "dtypes: int64(6), object(4)\n",
      "memory usage: 3.4+ KB\n"
     ]
    }
   ],
   "source": [
    "trans17_j = trans17[(trans17['Month']==1)]\n",
    "#trans17_j.info()\n",
    "trans17_f = trans17[(trans17['Month']==2)]\n",
    "#trans17_f.info()\n",
    "trans17_m = trans17[(trans17['Month']==3) & (trans17['Day']<=1)]\n",
    "trans17_m.info()"
   ]
  },
  {
   "cell_type": "markdown",
   "id": "4f5e7f4c-f6bc-4728-8c6b-6bd3184b0c93",
   "metadata": {},
   "source": [
    "trans17_mid = 12 + 50 + 40 = 102"
   ]
  },
  {
   "cell_type": "code",
   "execution_count": 64,
   "id": "eff96268-2e1c-4949-969d-37e7951ea12d",
   "metadata": {
    "tags": []
   },
   "outputs": [],
   "source": [
    "trans18 = trans[trans['Year']== 2018]"
   ]
  },
  {
   "cell_type": "code",
   "execution_count": 143,
   "id": "2662d77b-38f5-48a4-8b76-55b3dfcc28d0",
   "metadata": {
    "tags": []
   },
   "outputs": [
    {
     "name": "stdout",
     "output_type": "stream",
     "text": [
      "<class 'pandas.core.frame.DataFrame'>\n",
      "Index: 70 entries, 7668 to 7737\n",
      "Data columns (total 10 columns):\n",
      " #   Column               Non-Null Count  Dtype \n",
      "---  ------               --------------  ----- \n",
      " 0   Unnamed: 0           70 non-null     int64 \n",
      " 1   Team A               70 non-null     object\n",
      " 2   Asset Sent           70 non-null     object\n",
      " 3   Asset Received       70 non-null     object\n",
      " 4   Team B               70 non-null     object\n",
      " 5   Num Players Sent     70 non-null     int64 \n",
      " 6   Num Player Received  70 non-null     int64 \n",
      " 7   Year                 70 non-null     int64 \n",
      " 8   Month                70 non-null     int64 \n",
      " 9   Day                  70 non-null     int64 \n",
      "dtypes: int64(6), object(4)\n",
      "memory usage: 6.0+ KB\n"
     ]
    }
   ],
   "source": [
    "trans18_j = trans18[(trans18['Month']==1)]\n",
    "#trans18_j.info()\n",
    "trans18_f = trans18[(trans18['Month']==2) & (trans18['Day']<=26)]\n",
    "trans18_f.info()"
   ]
  },
  {
   "cell_type": "markdown",
   "id": "d0cdd382-ea09-4e8d-9f4d-5b3b45ce75c5",
   "metadata": {
    "tags": []
   },
   "source": [
    "trans18_mid = 10 + 70 = 80"
   ]
  },
  {
   "cell_type": "code",
   "execution_count": 66,
   "id": "18df3c26-d6fd-42b3-ae33-ed60f7fe5b11",
   "metadata": {
    "tags": []
   },
   "outputs": [],
   "source": [
    "trans19 = trans[trans['Year']== 2019]"
   ]
  },
  {
   "cell_type": "code",
   "execution_count": 146,
   "id": "01bfac49-6b40-4633-acf5-18978649df1e",
   "metadata": {
    "tags": []
   },
   "outputs": [
    {
     "name": "stdout",
     "output_type": "stream",
     "text": [
      "<class 'pandas.core.frame.DataFrame'>\n",
      "Index: 86 entries, 7892 to 7977\n",
      "Data columns (total 10 columns):\n",
      " #   Column               Non-Null Count  Dtype \n",
      "---  ------               --------------  ----- \n",
      " 0   Unnamed: 0           86 non-null     int64 \n",
      " 1   Team A               86 non-null     object\n",
      " 2   Asset Sent           86 non-null     object\n",
      " 3   Asset Received       86 non-null     object\n",
      " 4   Team B               86 non-null     object\n",
      " 5   Num Players Sent     86 non-null     int64 \n",
      " 6   Num Player Received  86 non-null     int64 \n",
      " 7   Year                 86 non-null     int64 \n",
      " 8   Month                86 non-null     int64 \n",
      " 9   Day                  86 non-null     int64 \n",
      "dtypes: int64(6), object(4)\n",
      "memory usage: 7.4+ KB\n"
     ]
    }
   ],
   "source": [
    "trans19_j = trans19[(trans19['Month']==1)]\n",
    "#trans19_j.info()\n",
    "trans19_f = trans19[(trans19['Month']==2) & (trans19['Day']<=25)]\n",
    "trans19_f.info()"
   ]
  },
  {
   "cell_type": "markdown",
   "id": "556f3eb6-5ffe-40ae-a4e6-bfefd13765ee",
   "metadata": {},
   "source": [
    "trans19_mid = 32 + 86 = 118"
   ]
  },
  {
   "cell_type": "code",
   "execution_count": 68,
   "id": "3d99a5e2-270f-49a7-9598-821ae7ac416f",
   "metadata": {
    "tags": []
   },
   "outputs": [],
   "source": [
    "trans20 = trans[trans['Year']== 2020]"
   ]
  },
  {
   "cell_type": "code",
   "execution_count": 148,
   "id": "5d0c4b80-ceee-4f2f-a591-122449978403",
   "metadata": {
    "tags": []
   },
   "outputs": [
    {
     "name": "stdout",
     "output_type": "stream",
     "text": [
      "<class 'pandas.core.frame.DataFrame'>\n",
      "Index: 97 entries, 8081 to 8177\n",
      "Data columns (total 10 columns):\n",
      " #   Column               Non-Null Count  Dtype \n",
      "---  ------               --------------  ----- \n",
      " 0   Unnamed: 0           97 non-null     int64 \n",
      " 1   Team A               97 non-null     object\n",
      " 2   Asset Sent           97 non-null     object\n",
      " 3   Asset Received       97 non-null     object\n",
      " 4   Team B               97 non-null     object\n",
      " 5   Num Players Sent     97 non-null     int64 \n",
      " 6   Num Player Received  97 non-null     int64 \n",
      " 7   Year                 97 non-null     int64 \n",
      " 8   Month                97 non-null     int64 \n",
      " 9   Day                  97 non-null     int64 \n",
      "dtypes: int64(6), object(4)\n",
      "memory usage: 8.3+ KB\n"
     ]
    }
   ],
   "source": [
    "trans20_j = trans20[(trans20['Month']==1)]\n",
    "#trans20_j.info()\n",
    "trans20_f = trans20[(trans20['Month']==2) & (trans20['Day']<=24)]\n",
    "trans20_f.info()"
   ]
  },
  {
   "cell_type": "markdown",
   "id": "4da656b8-984a-4030-890f-a2c25f21cc9f",
   "metadata": {},
   "source": [
    "trans20_mid = 9 + 97 = 106"
   ]
  },
  {
   "cell_type": "code",
   "execution_count": 70,
   "id": "f4c85e01-042a-4adf-a38b-909eb84b649f",
   "metadata": {
    "tags": []
   },
   "outputs": [],
   "source": [
    "trans21 = trans[trans['Year']== 2021]"
   ]
  },
  {
   "cell_type": "code",
   "execution_count": 153,
   "id": "1b01d651-0951-4abf-9cb3-b38500006671",
   "metadata": {
    "tags": []
   },
   "outputs": [
    {
     "name": "stdout",
     "output_type": "stream",
     "text": [
      "<class 'pandas.core.frame.DataFrame'>\n",
      "Index: 56 entries, 8308 to 8363\n",
      "Data columns (total 10 columns):\n",
      " #   Column               Non-Null Count  Dtype \n",
      "---  ------               --------------  ----- \n",
      " 0   Unnamed: 0           56 non-null     int64 \n",
      " 1   Team A               56 non-null     object\n",
      " 2   Asset Sent           56 non-null     object\n",
      " 3   Asset Received       56 non-null     object\n",
      " 4   Team B               56 non-null     object\n",
      " 5   Num Players Sent     56 non-null     int64 \n",
      " 6   Num Player Received  56 non-null     int64 \n",
      " 7   Year                 56 non-null     int64 \n",
      " 8   Month                56 non-null     int64 \n",
      " 9   Day                  56 non-null     int64 \n",
      "dtypes: int64(6), object(4)\n",
      "memory usage: 4.8+ KB\n"
     ]
    }
   ],
   "source": [
    "trans21_j = trans21[(trans21['Month']==1)]\n",
    "#trans21_j.info()\n",
    "trans21_f = trans21[(trans21['Month']==2)]\n",
    "#trans21_f.info()\n",
    "trans21_m = trans21[(trans21['Month']==3)]\n",
    "#trans21_m.info()\n",
    "trans21_a = trans21[(trans21['Month']==4) & (trans21['Day']<=12)]\n",
    "trans21_a.info()"
   ]
  },
  {
   "cell_type": "markdown",
   "id": "0758ccc8-0b87-478f-8207-f5cf2a9c4385",
   "metadata": {},
   "source": [
    "trans21_mid = 10 + 6 + 12 + 56 = 84"
   ]
  },
  {
   "cell_type": "markdown",
   "id": "6fc58f27-eec3-473b-ba2e-47765b6bab4c",
   "metadata": {},
   "source": [
    "- trans22_mid = 1 + 7 + 49 = 57\n",
    "- trans23_mid = 3 + 28 + 39 = 70"
   ]
  },
  {
   "cell_type": "code",
   "execution_count": 157,
   "id": "ad473214-7007-4d08-8b49-165ab7bdaa02",
   "metadata": {
    "tags": []
   },
   "outputs": [
    {
     "data": {
      "text/plain": [
       "1624"
      ]
     },
     "execution_count": 157,
     "metadata": {},
     "output_type": "execute_result"
    }
   ],
   "source": [
    "trans_mid = 80 + 102 + 78 + 64 + 120 + 83 + 84 + 142 + 64 + 94 + 96 + 102 + 80 + 118 + 106 + 84\n",
    "trans_mid + 127"
   ]
  }
 ],
 "metadata": {
  "kernelspec": {
   "display_name": "Python 3 (ipykernel)",
   "language": "python",
   "name": "python3"
  },
  "language_info": {
   "codemirror_mode": {
    "name": "ipython",
    "version": 3
   },
   "file_extension": ".py",
   "mimetype": "text/x-python",
   "name": "python",
   "nbconvert_exporter": "python",
   "pygments_lexer": "ipython3",
   "version": "3.11.5"
  }
 },
 "nbformat": 4,
 "nbformat_minor": 5
}
