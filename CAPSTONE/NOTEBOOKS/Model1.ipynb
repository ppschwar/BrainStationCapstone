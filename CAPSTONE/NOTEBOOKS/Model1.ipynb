{
 "cells": [
  {
   "cell_type": "markdown",
   "id": "299072a5-79eb-44c5-8577-9beb9a281b5b",
   "metadata": {},
   "source": [
    "## Model 1\n",
    "In this notebook we will explore an initial model to be used as a baseline.  In the teams table, we will see how the predictive power of preseason odds and midseason points (standings) are for the target variable of playoff wins (with 16 winning the Stanley Cup)."
   ]
  },
  {
   "cell_type": "code",
   "execution_count": 15,
   "id": "97cd50be-1d1a-4124-992c-c5794a82c4ce",
   "metadata": {},
   "outputs": [],
   "source": [
    "import numpy as np\n",
    "import pandas as pd\n",
    "import matplotlib.pyplot as plt\n",
    "import seaborn as sns\n",
    "\n",
    "from sklearn.model_selection import train_test_split\n",
    "from sklearn.linear_model import LogisticRegression\n",
    "from sklearn.preprocessing import StandardScaler"
   ]
  },
  {
   "cell_type": "markdown",
   "id": "1e98e005-5d61-4b61-bb87-692856f5476b",
   "metadata": {},
   "source": [
    "After the usual imports, we will import a csv which contains all NHL teams individual seasons from 2006 - 2023. We will keep the 2024 season off to the side until we have a model worth using to predict the outcome of the current season."
   ]
  },
  {
   "cell_type": "markdown",
   "id": "60c724f1-d263-4473-a82f-df5810909b3d",
   "metadata": {},
   "source": [
    "**Data Dictionary**\n",
    "- TEAM - All teams active for each individual season (2006 - 2023). See notes below.\n",
    "- Preseason_Odds - Signifies chances of winning stanley cup (lower suggests a better team). See notes below.\n",
    "- Midseason_Pts - Total at each season's trade deadline (more points equals higher place in standings).\n",
    "- Playoff_Wins - 0.0-4.0 - for teams making Playoffs, NaN for teams that missed. 4.0 signifies the Stanley Cup Champion for each season.\n",
    "\n",
    "**Notes:**\n",
    "- Mighty Ducks of Anaheim renamed to Anaheim Ducks following 2005-06 season.\n",
    "- Atlanta (Thrashers) moved thier franchise to Winnipeg (Jets) following the 2010-11 season.\n",
    "- Phoenix Coyotes renamed as the Arizona Coyotes following the 2013-14 season.\n",
    "- Preseason Odds are calculated as the return made on a $100 bet.\n",
    "- Playoff Wins are binned by how many rounds a team won."
   ]
  },
  {
   "cell_type": "code",
   "execution_count": 4,
   "id": "29cf8300-36c5-4020-965d-b7a10f720036",
   "metadata": {},
   "outputs": [
    {
     "data": {
      "text/html": [
       "<div>\n",
       "<style scoped>\n",
       "    .dataframe tbody tr th:only-of-type {\n",
       "        vertical-align: middle;\n",
       "    }\n",
       "\n",
       "    .dataframe tbody tr th {\n",
       "        vertical-align: top;\n",
       "    }\n",
       "\n",
       "    .dataframe thead th {\n",
       "        text-align: right;\n",
       "    }\n",
       "</style>\n",
       "<table border=\"1\" class=\"dataframe\">\n",
       "  <thead>\n",
       "    <tr style=\"text-align: right;\">\n",
       "      <th></th>\n",
       "      <th>TEAM</th>\n",
       "      <th>Preseason_Odds</th>\n",
       "      <th>Midseason_Pts</th>\n",
       "      <th>Playoff_Wins</th>\n",
       "    </tr>\n",
       "  </thead>\n",
       "  <tbody>\n",
       "    <tr>\n",
       "      <th>0</th>\n",
       "      <td>MightyDucksOfAnaheim_06</td>\n",
       "      <td>3000</td>\n",
       "      <td>70</td>\n",
       "      <td>2.0</td>\n",
       "    </tr>\n",
       "    <tr>\n",
       "      <th>1</th>\n",
       "      <td>AnaheimDucks_07</td>\n",
       "      <td>1200</td>\n",
       "      <td>84</td>\n",
       "      <td>4.0</td>\n",
       "    </tr>\n",
       "    <tr>\n",
       "      <th>2</th>\n",
       "      <td>AnaheimDucks_08</td>\n",
       "      <td>600</td>\n",
       "      <td>79</td>\n",
       "      <td>0.0</td>\n",
       "    </tr>\n",
       "    <tr>\n",
       "      <th>3</th>\n",
       "      <td>AnaheimDucks_09</td>\n",
       "      <td>1000</td>\n",
       "      <td>68</td>\n",
       "      <td>1.0</td>\n",
       "    </tr>\n",
       "    <tr>\n",
       "      <th>4</th>\n",
       "      <td>AnaheimDucks_10</td>\n",
       "      <td>1400</td>\n",
       "      <td>67</td>\n",
       "      <td>NaN</td>\n",
       "    </tr>\n",
       "    <tr>\n",
       "      <th>...</th>\n",
       "      <td>...</td>\n",
       "      <td>...</td>\n",
       "      <td>...</td>\n",
       "      <td>...</td>\n",
       "    </tr>\n",
       "    <tr>\n",
       "      <th>543</th>\n",
       "      <td>TorontoMapleLeafs_23</td>\n",
       "      <td>800</td>\n",
       "      <td>84</td>\n",
       "      <td>1.0</td>\n",
       "    </tr>\n",
       "    <tr>\n",
       "      <th>544</th>\n",
       "      <td>VancouverCanucks_23</td>\n",
       "      <td>5000</td>\n",
       "      <td>53</td>\n",
       "      <td>NaN</td>\n",
       "    </tr>\n",
       "    <tr>\n",
       "      <th>545</th>\n",
       "      <td>VegasGoldenKnights_23</td>\n",
       "      <td>1800</td>\n",
       "      <td>80</td>\n",
       "      <td>4.0</td>\n",
       "    </tr>\n",
       "    <tr>\n",
       "      <th>546</th>\n",
       "      <td>WashingtonCapitals_23</td>\n",
       "      <td>4000</td>\n",
       "      <td>66</td>\n",
       "      <td>NaN</td>\n",
       "    </tr>\n",
       "    <tr>\n",
       "      <th>547</th>\n",
       "      <td>WinnipegJets_23</td>\n",
       "      <td>6600</td>\n",
       "      <td>72</td>\n",
       "      <td>0.0</td>\n",
       "    </tr>\n",
       "  </tbody>\n",
       "</table>\n",
       "<p>548 rows × 4 columns</p>\n",
       "</div>"
      ],
      "text/plain": [
       "                        TEAM  Preseason_Odds  Midseason_Pts  Playoff_Wins\n",
       "0    MightyDucksOfAnaheim_06            3000             70           2.0\n",
       "1            AnaheimDucks_07            1200             84           4.0\n",
       "2            AnaheimDucks_08             600             79           0.0\n",
       "3            AnaheimDucks_09            1000             68           1.0\n",
       "4            AnaheimDucks_10            1400             67           NaN\n",
       "..                       ...             ...            ...           ...\n",
       "543     TorontoMapleLeafs_23             800             84           1.0\n",
       "544      VancouverCanucks_23            5000             53           NaN\n",
       "545    VegasGoldenKnights_23            1800             80           4.0\n",
       "546    WashingtonCapitals_23            4000             66           NaN\n",
       "547          WinnipegJets_23            6600             72           0.0\n",
       "\n",
       "[548 rows x 4 columns]"
      ]
     },
     "execution_count": 4,
     "metadata": {},
     "output_type": "execute_result"
    }
   ],
   "source": [
    "teams = pd.read_csv('/Users/phil/Documents/Capstone_New/Data/Capstone_Teams_Sheet3.csv')\n",
    "teams"
   ]
  },
  {
   "cell_type": "code",
   "execution_count": 5,
   "id": "057ec093-7754-4948-9b9e-47bcbe26e23a",
   "metadata": {},
   "outputs": [
    {
     "name": "stdout",
     "output_type": "stream",
     "text": [
      "<class 'pandas.core.frame.DataFrame'>\n",
      "RangeIndex: 548 entries, 0 to 547\n",
      "Data columns (total 4 columns):\n",
      " #   Column          Non-Null Count  Dtype  \n",
      "---  ------          --------------  -----  \n",
      " 0   TEAM            548 non-null    object \n",
      " 1   Preseason_Odds  548 non-null    int64  \n",
      " 2   Midseason_Pts   548 non-null    int64  \n",
      " 3   Playoff_Wins    296 non-null    float64\n",
      "dtypes: float64(1), int64(2), object(1)\n",
      "memory usage: 17.3+ KB\n"
     ]
    }
   ],
   "source": [
    "teams.info()"
   ]
  },
  {
   "cell_type": "markdown",
   "id": "13bdf53a-bfde-42a1-9305-8ced8f8ec24a",
   "metadata": {},
   "source": [
    "Above we can see that we have 548 teams to try to assess how well a teams preseason odds + midseason point totals can predict their playoff wins.  We will use this as a baseline prior to adding other features in effort to see whether a team's trade activity will suggest an impact on their playoff success."
   ]
  },
  {
   "cell_type": "markdown",
   "id": "94d44720-f047-41ee-bad6-1b579eda994d",
   "metadata": {},
   "source": [
    "Additionally, with all of the null values, we will impute \"-1\" for all teams that did not make the playoffs.  While this groups all teams that missed the playoffs equally, this can be something we look into further into as a way of improving the model after establishing the baseline."
   ]
  },
  {
   "cell_type": "code",
   "execution_count": 6,
   "id": "a23947bd-ca41-4131-8a95-30baf288a1f4",
   "metadata": {},
   "outputs": [
    {
     "data": {
      "text/html": [
       "<div>\n",
       "<style scoped>\n",
       "    .dataframe tbody tr th:only-of-type {\n",
       "        vertical-align: middle;\n",
       "    }\n",
       "\n",
       "    .dataframe tbody tr th {\n",
       "        vertical-align: top;\n",
       "    }\n",
       "\n",
       "    .dataframe thead th {\n",
       "        text-align: right;\n",
       "    }\n",
       "</style>\n",
       "<table border=\"1\" class=\"dataframe\">\n",
       "  <thead>\n",
       "    <tr style=\"text-align: right;\">\n",
       "      <th></th>\n",
       "      <th>TEAM</th>\n",
       "      <th>Preseason_Odds</th>\n",
       "      <th>Midseason_Pts</th>\n",
       "      <th>Playoff_Wins</th>\n",
       "    </tr>\n",
       "  </thead>\n",
       "  <tbody>\n",
       "    <tr>\n",
       "      <th>0</th>\n",
       "      <td>MightyDucksOfAnaheim_06</td>\n",
       "      <td>3000</td>\n",
       "      <td>70</td>\n",
       "      <td>2.0</td>\n",
       "    </tr>\n",
       "    <tr>\n",
       "      <th>1</th>\n",
       "      <td>AnaheimDucks_07</td>\n",
       "      <td>1200</td>\n",
       "      <td>84</td>\n",
       "      <td>4.0</td>\n",
       "    </tr>\n",
       "    <tr>\n",
       "      <th>2</th>\n",
       "      <td>AnaheimDucks_08</td>\n",
       "      <td>600</td>\n",
       "      <td>79</td>\n",
       "      <td>0.0</td>\n",
       "    </tr>\n",
       "    <tr>\n",
       "      <th>3</th>\n",
       "      <td>AnaheimDucks_09</td>\n",
       "      <td>1000</td>\n",
       "      <td>68</td>\n",
       "      <td>1.0</td>\n",
       "    </tr>\n",
       "    <tr>\n",
       "      <th>4</th>\n",
       "      <td>AnaheimDucks_10</td>\n",
       "      <td>1400</td>\n",
       "      <td>67</td>\n",
       "      <td>-1.0</td>\n",
       "    </tr>\n",
       "    <tr>\n",
       "      <th>...</th>\n",
       "      <td>...</td>\n",
       "      <td>...</td>\n",
       "      <td>...</td>\n",
       "      <td>...</td>\n",
       "    </tr>\n",
       "    <tr>\n",
       "      <th>543</th>\n",
       "      <td>TorontoMapleLeafs_23</td>\n",
       "      <td>800</td>\n",
       "      <td>84</td>\n",
       "      <td>1.0</td>\n",
       "    </tr>\n",
       "    <tr>\n",
       "      <th>544</th>\n",
       "      <td>VancouverCanucks_23</td>\n",
       "      <td>5000</td>\n",
       "      <td>53</td>\n",
       "      <td>-1.0</td>\n",
       "    </tr>\n",
       "    <tr>\n",
       "      <th>545</th>\n",
       "      <td>VegasGoldenKnights_23</td>\n",
       "      <td>1800</td>\n",
       "      <td>80</td>\n",
       "      <td>4.0</td>\n",
       "    </tr>\n",
       "    <tr>\n",
       "      <th>546</th>\n",
       "      <td>WashingtonCapitals_23</td>\n",
       "      <td>4000</td>\n",
       "      <td>66</td>\n",
       "      <td>-1.0</td>\n",
       "    </tr>\n",
       "    <tr>\n",
       "      <th>547</th>\n",
       "      <td>WinnipegJets_23</td>\n",
       "      <td>6600</td>\n",
       "      <td>72</td>\n",
       "      <td>0.0</td>\n",
       "    </tr>\n",
       "  </tbody>\n",
       "</table>\n",
       "<p>548 rows × 4 columns</p>\n",
       "</div>"
      ],
      "text/plain": [
       "                        TEAM  Preseason_Odds  Midseason_Pts  Playoff_Wins\n",
       "0    MightyDucksOfAnaheim_06            3000             70           2.0\n",
       "1            AnaheimDucks_07            1200             84           4.0\n",
       "2            AnaheimDucks_08             600             79           0.0\n",
       "3            AnaheimDucks_09            1000             68           1.0\n",
       "4            AnaheimDucks_10            1400             67          -1.0\n",
       "..                       ...             ...            ...           ...\n",
       "543     TorontoMapleLeafs_23             800             84           1.0\n",
       "544      VancouverCanucks_23            5000             53          -1.0\n",
       "545    VegasGoldenKnights_23            1800             80           4.0\n",
       "546    WashingtonCapitals_23            4000             66          -1.0\n",
       "547          WinnipegJets_23            6600             72           0.0\n",
       "\n",
       "[548 rows x 4 columns]"
      ]
     },
     "execution_count": 6,
     "metadata": {},
     "output_type": "execute_result"
    }
   ],
   "source": [
    "teams = teams.fillna(-1)\n",
    "teams"
   ]
  },
  {
   "cell_type": "code",
   "execution_count": 7,
   "id": "092ccae1-0b12-41fd-8325-2af0213f8a15",
   "metadata": {},
   "outputs": [
    {
     "data": {
      "text/plain": [
       "Playoff_Wins\n",
       "-1.0    252\n",
       " 0.0    159\n",
       " 1.0     62\n",
       " 2.0     37\n",
       " 3.0     20\n",
       " 4.0     18\n",
       "Name: count, dtype: int64"
      ]
     },
     "execution_count": 7,
     "metadata": {},
     "output_type": "execute_result"
    }
   ],
   "source": [
    "teams['Playoff_Wins'].value_counts()"
   ]
  },
  {
   "cell_type": "markdown",
   "id": "ba9f8121-98dd-4e3d-86d1-563efbf3a3f9",
   "metadata": {},
   "source": [
    "Above we see some fairly imbalanced data, which makes sense.  Only about half the teams make the playoffs each year, and as it is a tournament, fewer teams advance round by round."
   ]
  },
  {
   "cell_type": "code",
   "execution_count": 16,
   "id": "51ee0e51-32a4-4ef2-a884-4d4baec11976",
   "metadata": {},
   "outputs": [
    {
     "data": {
      "text/plain": [
       "<Axes: >"
      ]
     },
     "execution_count": 16,
     "metadata": {},
     "output_type": "execute_result"
    },
    {
     "data": {
      "image/png": "[encoded data removed]",
      "text/plain": [
       "<Figure size 640x480 with 2 Axes>"
      ]
     },
     "metadata": {},
     "output_type": "display_data"
    }
   ],
   "source": [
    "teams_corr = teams[['Preseason_Odds','Midseason_Pts','Playoff_Wins']].corr()\n",
    "sns.heatmap(teams_corr,cmap='coolwarm',vmin=-1,vmax=1)"
   ]
  },
  {
   "cell_type": "code",
   "execution_count": 8,
   "id": "1cd1c1ed-89fa-40af-87d5-d0035005ec01",
   "metadata": {},
   "outputs": [],
   "source": [
    "X = teams[['Preseason_Odds','Midseason_Pts']]\n",
    "y = teams['Playoff_Wins']\n",
    "\n",
    "X_train,X_test,y_train,y_test = train_test_split(X,y,test_size=0.2,stratify=y,random_state=1)"
   ]
  },
  {
   "cell_type": "code",
   "execution_count": 9,
   "id": "91f5ebc0-bf32-4829-aac6-16559ab23673",
   "metadata": {},
   "outputs": [],
   "source": [
    "scaler = StandardScaler()\n",
    "\n",
    "X_train_ss = scaler.fit_transform(X_train)\n",
    "X_test_ss = scaler.fit_transform(X_test)"
   ]
  },
  {
   "cell_type": "code",
   "execution_count": 10,
   "id": "4d81164f-e10b-472f-85c7-2c98c0638ea3",
   "metadata": {},
   "outputs": [
    {
     "name": "stdout",
     "output_type": "stream",
     "text": [
      "0.639269406392694\n",
      "0.6181818181818182\n"
     ]
    }
   ],
   "source": [
    "lr = LogisticRegression()\n",
    "logreg = lr.fit(X_train_ss,y_train)\n",
    "logreg_train_acc = logreg.score(X_train_ss,y_train)\n",
    "logreg_test_acc = logreg.score(X_test_ss,y_test)\n",
    "print(logreg_train_acc)\n",
    "print(logreg_test_acc)"
   ]
  },
  {
   "cell_type": "code",
   "execution_count": 11,
   "id": "ddf30621-987d-4578-997d-d6d36c1e7fee",
   "metadata": {},
   "outputs": [
    {
     "data": {
      "text/plain": [
       "array([[ 1.06346446, -1.4694275 ],\n",
       "       [ 0.49768372,  0.24337713],\n",
       "       [ 0.04608319,  0.44968679],\n",
       "       [ 0.07193262,  0.37490868],\n",
       "       [ 0.15162563,  0.09492282],\n",
       "       [-1.83078963,  0.30653207]])"
      ]
     },
     "execution_count": 11,
     "metadata": {},
     "output_type": "execute_result"
    }
   ],
   "source": [
    "logreg.coef_"
   ]
  },
  {
   "cell_type": "code",
   "execution_count": 12,
   "id": "a4d30b2c-8280-4227-ac7e-b75444d42485",
   "metadata": {},
   "outputs": [
    {
     "name": "stdout",
     "output_type": "stream",
     "text": [
      "0.6232876712328768\n",
      "0.6090909090909091\n"
     ]
    }
   ],
   "source": [
    "from sklearn.linear_model import RidgeClassifier\n",
    "\n",
    "clf = RidgeClassifier().fit(X_train_ss,y_train)\n",
    "r_train = clf.score(X_train_ss,y_train)\n",
    "r_test = clf.score(X_test_ss,y_test)\n",
    "\n",
    "print(r_train)\n",
    "print(r_test)"
   ]
  },
  {
   "cell_type": "code",
   "execution_count": 13,
   "id": "e8577b0c-9e4b-417b-89fa-f7781e00205a",
   "metadata": {},
   "outputs": [
    {
     "name": "stdout",
     "output_type": "stream",
     "text": [
      "0.0\n",
      "-3.3398563088482547e-06\n"
     ]
    }
   ],
   "source": [
    "from sklearn.linear_model import Lasso\n",
    "\n",
    "clf2 = Lasso().fit(X_train_ss,y_train)\n",
    "l_train = clf2.score(X_train_ss,y_train)\n",
    "l_test = clf2.score(X_test_ss,y_test)\n",
    "\n",
    "print(l_train)\n",
    "print(l_test)"
   ]
  },
  {
   "cell_type": "markdown",
   "id": "f98e03d4-05fd-4d7c-a389-9d68c2fb5b55",
   "metadata": {},
   "source": [
    "With a basic logistic regression model using a standard scaler and default hyperparameters we result in a 64% train accuracy and 62% test accuracy. While I would like to improve upon the accuracy going forward, this is not too bad of a start."
   ]
  },
  {
   "cell_type": "markdown",
   "id": "11bb88a4-a1e7-4662-982d-1a69e451c673",
   "metadata": {},
   "source": [
    "**Next Steps**\n",
    "\n",
    "I plan to both add some additional features to incorporate my trade and player data, as well as dive further into the modeling.  Again, the plan here was to just get a baseline, but now with more direction, we can play around with hyperparameters, different regression models, and the additional features."
   ]
  }
 ],
 "metadata": {
  "kernelspec": {
   "display_name": "Python 3 (ipykernel)",
   "language": "python",
   "name": "python3"
  },
  "language_info": {
   "codemirror_mode": {
    "name": "ipython",
    "version": 3
   },
   "file_extension": ".py",
   "mimetype": "text/x-python",
   "name": "python",
   "nbconvert_exporter": "python",
   "pygments_lexer": "ipython3",
   "version": "3.11.5"
  }
 },
 "nbformat": 4,
 "nbformat_minor": 5
}
